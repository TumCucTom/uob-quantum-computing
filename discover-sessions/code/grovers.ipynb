{
 "cells": [
  {
   "cell_type": "markdown",
   "id": "7dd59f9d",
   "metadata": {},
   "source": [
    "# Grover's Algorithm in Qiskit\n",
    "This notebook demonstrates Grover's algorithm using Qiskit."
   ]
  },
  {
   "cell_type": "markdown",
   "id": "eb94c399",
   "metadata": {},
   "source": [
    "## Importing Required Libraries\n",
    "We start by importing the necessary libraries from Qiskit and Qiskit Aer."
   ]
  },
  {
   "cell_type": "code",
   "execution_count": 12,
   "id": "a55d91a3",
   "metadata": {},
   "outputs": [],
   "source": [
    "\n",
    "import math\n",
    "from qiskit import QuantumCircuit, transpile, assemble, execute\n",
    "from qiskit_aer import Aer\n",
    "from qiskit.visualization import plot_histogram\n"
   ]
  },
  {
   "cell_type": "markdown",
   "id": "e79701c1",
   "metadata": {},
   "source": [
    "## Defining the Grover Oracle\n",
    "The Grover oracle marks specific states as solutions. It applies a phase flip to the marked states."
   ]
  },
  {
   "cell_type": "code",
   "execution_count": 13,
   "id": "e9b4b546",
   "metadata": {},
   "outputs": [],
   "source": [
    "\n",
    "def grover_oracle(marked_states):\n",
    "    \"\"\"Build a Grover oracle for multiple marked states.\"\"\"\n",
    "    if not isinstance(marked_states, list):\n",
    "        marked_states = [marked_states]\n",
    "    num_qubits = len(marked_states[0])\n",
    "    qc = QuantumCircuit(num_qubits)\n",
    "    for target in marked_states:\n",
    "        rev_target = target[::-1]  # Reverse to match Qiskit's ordering\n",
    "        zero_inds = [ind for ind in range(num_qubits) if rev_target[ind] == \"0\"]\n",
    "        qc.x(zero_inds)  # Apply X gates to zero positions\n",
    "        qc.h(num_qubits - 1)\n",
    "        qc.mcx(list(range(num_qubits - 1)), num_qubits - 1)  # Multi-controlled Toffoli\n",
    "        qc.h(num_qubits - 1)\n",
    "        qc.x(zero_inds)\n",
    "    return qc\n"
   ]
  },
  {
   "cell_type": "markdown",
   "id": "669b839c",
   "metadata": {},
   "source": [
    "## Setting Marked States and Creating the Oracle\n",
    "Here, we define the states that Grover's algorithm will search for and create the corresponding oracle."
   ]
  },
  {
   "cell_type": "code",
   "execution_count": 28,
   "id": "ee772187",
   "metadata": {},
   "outputs": [],
   "source": [
    "\n",
    "marked_states = [\"110\", \"010\", \"001\"]\n",
    "oracle = grover_oracle(marked_states)\n"
   ]
  },
  {
   "cell_type": "markdown",
   "id": "10414913",
   "metadata": {},
   "source": [
    "## Calculating the Number of Grover Iterations\n",
    "The number of Grover iterations is computed using the formula:\n",
    "$$ k = \\lfloor \\frac{\\pi}{4} \\frac{1}{\\arcsin{\\sqrt{M/N}}} \\rfloor $$\n",
    "where $M$ is the number of marked states and $N$ is the total number of states (i.e., $2^{n}$ for $n$ qubits)."
   ]
  },
  {
   "cell_type": "code",
   "execution_count": 29,
   "id": "180e4a0a",
   "metadata": {},
   "outputs": [],
   "source": [
    "\n",
    "num_qubits = len(marked_states[0])\n",
    "grover_iterations = math.floor(math.pi / (4 * math.asin(math.sqrt(len(marked_states) / 2**num_qubits))))\n"
   ]
  },
  {
   "cell_type": "markdown",
   "id": "0b610d93",
   "metadata": {},
   "source": [
    "## Constructing the Grover Circuit\n",
    "The circuit consists of:\n",
    "- **Hadamard gates** to initialize the superposition state\n",
    "- **Oracle application** to mark solutions\n",
    "- **Grover diffusion operator** to amplify the marked states"
   ]
  },
  {
   "cell_type": "code",
   "execution_count": 30,
   "id": "c1abbfdc",
   "metadata": {},
   "outputs": [],
   "source": [
    "\n",
    "qc = QuantumCircuit(num_qubits)\n",
    "qc.h(range(num_qubits))  # Initial superposition\n",
    "\n",
    "for _ in range(grover_iterations):\n",
    "    qc.compose(oracle, inplace=True)  # Apply the oracle\n",
    "    qc.h(range(num_qubits))\n",
    "    qc.x(range(num_qubits))\n",
    "    qc.h(num_qubits - 1)\n",
    "    qc.mcx(list(range(num_qubits - 1)), num_qubits - 1)  # Multi-controlled Toffoli\n",
    "    qc.h(num_qubits - 1)\n",
    "    qc.x(range(num_qubits))\n",
    "    qc.h(range(num_qubits))\n",
    "\n",
    "qc.measure_all()  # Measurement step\n"
   ]
  },
  {
   "cell_type": "markdown",
   "id": "a08b9ae5",
   "metadata": {},
   "source": [
    "## Running the Quantum Simulation\n",
    "We use Qiskit's Aer simulator to run the circuit and collect measurement results."
   ]
  },
  {
   "cell_type": "code",
   "execution_count": 31,
   "id": "896d70b7",
   "metadata": {},
   "outputs": [
    {
     "name": "stderr",
     "output_type": "stream",
     "text": [
      "/var/folders/6s/xdq07j0n3yx8m9w4vxjz__gr0000gp/T/ipykernel_81222/1083632934.py:4: DeprecationWarning: The function ``qiskit.execute_function.execute()`` is deprecated as of qiskit 0.46.0. It will be removed in the Qiskit 1.0 release. This function combines ``transpile`` and ``backend.run``, which is covered by ``Sampler`` :mod:`~qiskit.primitives`. Alternatively, you can also run :func:`.transpile` followed by ``backend.run()``.\n",
      "  result = execute(compiled_circuit, simulator).result()\n"
     ]
    }
   ],
   "source": [
    "\n",
    "simulator = Aer.get_backend('qasm_simulator')\n",
    "compiled_circuit = transpile(qc, simulator)\n",
    "qobj = assemble(compiled_circuit, shots=10000)\n",
    "result = execute(compiled_circuit, simulator).result()\n",
    "counts = result.get_counts()\n"
   ]
  },
  {
   "cell_type": "markdown",
   "id": "1f1ac4dd",
   "metadata": {},
   "source": [
    "## Plotting the Measurement Results\n",
    "The histogram below shows the probability distribution of measured states, with marked states appearing most frequently."
   ]
  },
  {
   "cell_type": "code",
   "execution_count": 32,
   "id": "649ea97c",
   "metadata": {},
   "outputs": [
    {
     "data": {
      "image/png": "[encoded data removed]",
      "text/plain": [
       "<Figure size 700x500 with 1 Axes>"
      ]
     },
     "execution_count": 32,
     "metadata": {},
     "output_type": "execute_result"
    }
   ],
   "source": [
    "\n",
    "plot_histogram(counts)\n"
   ]
  },
  {
   "cell_type": "markdown",
   "id": "20b62978-52f3-4392-8f6e-c30dc79a7710",
   "metadata": {},
   "source": [
    "# Bonus\n",
    "\n",
    "## CHALLENGE 1\n",
    "\n",
    "Implement this for 6 qubits on a 5 length bitstring search\n",
    "\n",
    "## CHALLENGE 2\n",
    "\n",
    "Generalise this code to work for any N\n",
    "\n",
    "## CHALLENGE 3\n",
    "\n",
    "Implement Grover's algorithm to solve a search problem. \n",
    "\n",
    "### **Most innovative solution gets an extra reward**"
   ]
  }
 ],
 "metadata": {
  "kernelspec": {
   "display_name": "env",
   "language": "python",
   "name": "env"
  },
  "language_info": {
   "codemirror_mode": {
    "name": "ipython",
    "version": 3
   },
   "file_extension": ".py",
   "mimetype": "text/x-python",
   "name": "python",
   "nbconvert_exporter": "python",
   "pygments_lexer": "ipython3",
   "version": "3.10.0"
  }
 },
 "nbformat": 4,
 "nbformat_minor": 5
}
